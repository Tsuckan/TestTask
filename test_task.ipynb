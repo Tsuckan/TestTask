{
 "cells": [
  {
   "cell_type": "code",
   "execution_count": 102,
   "metadata": {},
   "outputs": [],
   "source": [
    "import rpa as r\n",
    "import pandas as pd\n",
    "from RPA.Excel.Application import Application\n",
    "from RPA.Email.ImapSmtp import ImapSmtp"
   ]
  },
  {
   "cell_type": "code",
   "execution_count": 103,
   "metadata": {},
   "outputs": [],
   "source": [
    "class Solution():\n",
    "    _UserEmail = \"\"\n",
    "    _UserPass = \"\"\n",
    "    _df = pd.DataFrame()\n",
    "    def __init__(self,UserEmail,UserPass):\n",
    "        self._UserEmail = UserEmail\n",
    "        self._UserPass = UserPass\n",
    "    def ParseValues(self):\n",
    "        answers = {'(A) Дата':[], '(B) Курс':[], '(C)Изменение':[],'(D) Дата Евро':[], '(E) Курс Евро':[], '(F)Изменение Евро':[]}\n",
    "        r.init()\n",
    "        r.url('https://yandex.ru/news/quotes/2002.html')\n",
    "        for i in range(2,12):\n",
    "            for k in range(1,4):\n",
    "                if k == 1:\n",
    "                    answers['(A) Дата'].append(r.read('/html/body/div[3]/div[1]/div[1]/div/div/div[2]/div/div[2]/table/tbody/tr['+str(i)+']/td['+str(k)+']'))\n",
    "                elif k == 2:\n",
    "                    answers['(B) Курс'].append(r.read('/html/body/div[3]/div[1]/div[1]/div/div/div[2]/div/div[2]/table/tbody/tr['+str(i)+']/td['+str(k)+']').replace(',','.'))\n",
    "                elif k == 3:\n",
    "                    answers['(C)Изменение'].append(r.read('/html/body/div[3]/div[1]/div[1]/div/div/div[2]/div/div[2]/table/tbody/tr['+str(i)+']/td['+str(k)+']').replace(',','.'))\n",
    "        r.url('https://yandex.ru/news/quotes/2000.html')\n",
    "        for i in range(2,12):\n",
    "            for k in range(1,4):\n",
    "                if k == 1:\n",
    "                    answers['(D) Дата Евро'].append(r.read('/html/body/div[3]/div[1]/div[1]/div/div/div[2]/div/div[2]/table/tbody/tr['+str(i)+']/td['+str(k)+']'))\n",
    "                elif k == 2:\n",
    "                    answers['(E) Курс Евро'].append(r.read('/html/body/div[3]/div[1]/div[1]/div/div/div[2]/div/div[2]/table/tbody/tr['+str(i)+']/td['+str(k)+']').replace(',','.'))\n",
    "                elif k == 3:\n",
    "                    answers['(F)Изменение Евро'].append(r.read('/html/body/div[3]/div[1]/div[1]/div/div/div[2]/div/div[2]/table/tbody/tr['+str(i)+']/td['+str(k)+']').replace(',','.'))\n",
    "        self._df = pd.DataFrame(answers)\n",
    "        self._df['(B) Курс'] = self._df['(B) Курс'].astype('float')\n",
    "        self._df['(C)Изменение'] = self._df['(C)Изменение'].astype('float')\n",
    "        self._df['(E) Курс Евро'] = self._df['(E) Курс Евро'].astype('float')\n",
    "        self._df['(F)Изменение Евро'] = self._df['(F)Изменение Евро'].astype('float')\n",
    "        self._df['(G) Деление'] = self._df['(B) Курс']/self._df['(E) Курс Евро']\n",
    "        r.close()\n",
    "    def WriteInExcel(self):\n",
    "        print(self._df)\n",
    "        app = Application()\n",
    "        app.open_application(True)\n",
    "        app.add_new_workbook()\n",
    "        app.add_new_sheet('Лист1')\n",
    "        app.set_active_worksheet(sheetname='Лист1')\n",
    "        for i in range(len(self._df)):\n",
    "            for num,k in enumerate(self._df.columns):\n",
    "                if k==\"(D) Дата Евро\" or k==\"(A) Дата\":\n",
    "                    app.write_to_cells(row = i+1, column = num+1, value = self._df[k][i])\n",
    "                    continue\n",
    "                if num>2 and num!=6:\n",
    "                    app.write_to_cells(row = i+1, column = num+1, value = self._df[k][i], number_format='####0,00\\€')\n",
    "                    continue\n",
    "                if num!=6:\n",
    "                    app.write_to_cells(row = i+1, column = num+1, value = self._df[k][i], number_format='####0,00\\$')\n",
    "        app.save_excel_as('C:/Users/Esteras/Desktop/Hi.xlsx', autofit=True)\n",
    "    def SendMessage(self,RecevierMail):\n",
    "        try:\n",
    "            mail = ImapSmtp(smtp_server=\"smtp.gmail.com\", smtp_port=587)\n",
    "            mail.authorize(account=self._UserEmail, password=self._UserPass)\n",
    "            mail.send_message(\n",
    "                sender=self._UserEmail,\n",
    "                recipients=RecevierMail,\n",
    "                subject=\"Message from RPA Python\",\n",
    "                body=\"Файл содержит \"+str(len(self._df))+ \" строк\",\n",
    "                attachments=[\"C:/Users/Esteras/Desktop/Hi.xlsx\"]\n",
    "            )\n",
    "        except Exception:\n",
    "            print(\"Произошла ошибка, проверьте пару логин пароль и настройки Gmail\")"
   ]
  },
  {
   "cell_type": "code",
   "execution_count": 104,
   "metadata": {},
   "outputs": [],
   "source": [
    "TaskSolution = Solution(\"tetstt887@gmail.com\" , \"qqwwee112233\")"
   ]
  },
  {
   "cell_type": "code",
   "execution_count": 105,
   "metadata": {},
   "outputs": [],
   "source": [
    "TaskSolution.ParseValues()"
   ]
  },
  {
   "cell_type": "code",
   "execution_count": 106,
   "metadata": {},
   "outputs": [
    {
     "name": "stdout",
     "output_type": "stream",
     "text": [
      "   (A) Дата  (B) Курс  (C)Изменение (D) Дата Евро  (E) Курс Евро  \\\n",
      "0  20.07.20   71.4025       -0.4700      20.07.20        81.6175   \n",
      "1  17.07.20   71.8725        0.3425      17.07.20        82.2000   \n",
      "2  16.07.20   71.5300        0.5400      16.07.20        81.4900   \n",
      "3  15.07.20   70.9900        0.1250      15.07.20        80.9900   \n",
      "4  14.07.20   70.8650       -0.1050      14.07.20        80.7500   \n",
      "5  13.07.20   70.9700        0.2425      13.07.20        80.5075   \n",
      "6  10.07.20   70.7275       -0.1875      10.07.20        79.8800   \n",
      "7  09.07.20   70.9150       -0.1950      09.07.20        80.0000   \n",
      "8  08.07.20   71.1100       -0.3625      08.07.20        80.5925   \n",
      "9  07.07.20   71.4725       -0.3550      07.07.20        80.6300   \n",
      "\n",
      "   (F)Изменение Евро  (G) Деление  \n",
      "0            -0.5825     0.874843  \n",
      "1             0.7100     0.874361  \n",
      "2             0.5000     0.877776  \n",
      "3             0.2400     0.876528  \n",
      "4             0.2425     0.877585  \n",
      "5             0.6275     0.881533  \n",
      "6            -0.1200     0.885422  \n",
      "7            -0.5925     0.886438  \n",
      "8            -0.0375     0.882340  \n",
      "9            -0.6000     0.886426  \n"
     ]
    }
   ],
   "source": [
    "TaskSolution.WriteInExcel()"
   ]
  },
  {
   "cell_type": "code",
   "execution_count": 107,
   "metadata": {
    "scrolled": true
   },
   "outputs": [],
   "source": [
    "TaskSolution.SendMessage(\"tetstt887@gmail.com\")"
   ]
  }
 ],
 "metadata": {
  "kernelspec": {
   "display_name": "Python 3",
   "language": "python",
   "name": "python3"
  },
  "language_info": {
   "codemirror_mode": {
    "name": "ipython",
    "version": 3
   },
   "file_extension": ".py",
   "mimetype": "text/x-python",
   "name": "python",
   "nbconvert_exporter": "python",
   "pygments_lexer": "ipython3",
   "version": "3.8.2"
  }
 },
 "nbformat": 4,
 "nbformat_minor": 4
}
